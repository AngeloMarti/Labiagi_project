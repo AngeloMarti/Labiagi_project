{
 "cells": [
  {
   "cell_type": "code",
   "execution_count": 89,
   "id": "81a12a72",
   "metadata": {},
   "outputs": [],
   "source": [
    "import cv2\n",
    "import os\n",
    "import random\n",
    "import numpy as np\n",
    "from matplotlib import pyplot as plt"
   ]
  },
  {
   "cell_type": "code",
   "execution_count": 90,
   "id": "bf002c41",
   "metadata": {},
   "outputs": [],
   "source": [
    "from tensorflow.keras.models import Model\n",
    "from tensorflow.keras.layers import Layer, Conv2D, Dense, MaxPooling2D, Input, Flatten\n",
    "import tensorflow as tf"
   ]
  },
  {
   "cell_type": "code",
   "execution_count": 91,
   "id": "8125b479",
   "metadata": {},
   "outputs": [],
   "source": [
    "gpus = tf.config.experimental.list_physical_devices('GPU')\n",
    "for gpu in gpus: \n",
    "    tf.config.experimental.set_memory_growth(gpu, True)"
   ]
  },
  {
   "cell_type": "code",
   "execution_count": 92,
   "id": "4877ac57",
   "metadata": {},
   "outputs": [],
   "source": [
    "POS_PATH = os.path.join('data', 'positive')\n",
    "NEG_PATH = os.path.join('data', 'negative')\n",
    "ANC_PATH = os.path.join('data', 'anchor')"
   ]
  },
  {
   "cell_type": "code",
   "execution_count": 93,
   "id": "e6943b88",
   "metadata": {},
   "outputs": [],
   "source": [
    "import uuid"
   ]
  },
  {
   "cell_type": "code",
   "execution_count": 94,
   "id": "8743337f",
   "metadata": {},
   "outputs": [],
   "source": [
    "anchor = tf.data.Dataset.list_files(ANC_PATH+'\\*.jpg').take(3000)\n",
    "positive = tf.data.Dataset.list_files(POS_PATH+'\\*.jpg').take(3000)\n",
    "negative = tf.data.Dataset.list_files(NEG_PATH+'\\*.jpg').take(3000)"
   ]
  },
  {
   "cell_type": "code",
   "execution_count": 95,
   "id": "94cfbfa7",
   "metadata": {},
   "outputs": [],
   "source": [
    "def preprocess(file_path):\n",
    "    \n",
    "    # Read in image from file path\n",
    "    byte_img = tf.io.read_file(file_path)\n",
    "    # Load in the image \n",
    "    img = tf.io.decode_jpeg(byte_img)\n",
    "    \n",
    "    # Preprocessing steps - resizing the image to be 100x100x3\n",
    "    img = tf.image.resize(img, (100,100))\n",
    "    # Scale image to be between 0 and 1 \n",
    "    img = img / 255.0\n",
    "    \n",
    "    # Return image\n",
    "    return img"
   ]
  },
  {
   "cell_type": "code",
   "execution_count": 96,
   "id": "af6c9c88",
   "metadata": {},
   "outputs": [],
   "source": [
    "positives = tf.data.Dataset.zip((anchor, positive, tf.data.Dataset.from_tensor_slices(tf.ones(len(anchor)))))\n",
    "negatives = tf.data.Dataset.zip((anchor, negative, tf.data.Dataset.from_tensor_slices(tf.zeros(len(anchor)))))\n",
    "data = positives.concatenate(negatives)"
   ]
  },
  {
   "cell_type": "code",
   "execution_count": 97,
   "id": "4ae449cb",
   "metadata": {},
   "outputs": [],
   "source": [
    "def preprocess_twin(input_img, validation_img, label):\n",
    "    return(preprocess(input_img), preprocess(validation_img), label)"
   ]
  },
  {
   "cell_type": "code",
   "execution_count": 98,
   "id": "c6b5ed4b",
   "metadata": {},
   "outputs": [],
   "source": [
    "data = data.map(preprocess_twin)\n",
    "data = data.cache()\n",
    "data = data.shuffle(buffer_size=1024)"
   ]
  },
  {
   "cell_type": "code",
   "execution_count": 99,
   "id": "1666c9db",
   "metadata": {},
   "outputs": [],
   "source": [
    "train_data = data.take(round(len(data)*.7))\n",
    "train_data = train_data.batch(16)\n",
    "train_data = train_data.prefetch(8)"
   ]
  },
  {
   "cell_type": "code",
   "execution_count": 100,
   "id": "4b7c992c",
   "metadata": {},
   "outputs": [],
   "source": [
    "test_data = data.skip(round(len(data)*.7))\n",
    "test_data = test_data.take(round(len(data)*.3))\n",
    "test_data = test_data.batch(16)\n",
    "test_data = test_data.prefetch(8)"
   ]
  },
  {
   "cell_type": "code",
   "execution_count": 101,
   "id": "cb9169eb",
   "metadata": {},
   "outputs": [],
   "source": [
    "def make_embedding(): \n",
    "    inp = Input(shape=(100,100,3), name='input_image')\n",
    "    \n",
    "    # First block\n",
    "    c1 = Conv2D(64, (10,10), activation='relu')(inp)\n",
    "    m1 = MaxPooling2D(64, (2,2), padding='same')(c1)\n",
    "    \n",
    "    # Second block\n",
    "    c2 = Conv2D(128, (7,7), activation='relu')(m1)\n",
    "    m2 = MaxPooling2D(64, (2,2), padding='same')(c2)\n",
    "    \n",
    "    # Third block \n",
    "    c3 = Conv2D(128, (4,4), activation='relu')(m2)\n",
    "    m3 = MaxPooling2D(64, (2,2), padding='same')(c3)\n",
    "    \n",
    "    # Final embedding block\n",
    "    c4 = Conv2D(256, (4,4), activation='relu')(m3)\n",
    "    f1 = Flatten()(c4)\n",
    "    d1 = Dense(4096, activation='sigmoid')(f1)\n",
    "    \n",
    "    \n",
    "    return Model(inputs=[inp], outputs=[d1], name='embedding')"
   ]
  },
  {
   "cell_type": "code",
   "execution_count": 102,
   "id": "f6844a66",
   "metadata": {},
   "outputs": [],
   "source": [
    "embedding = make_embedding()"
   ]
  },
  {
   "cell_type": "code",
   "execution_count": 103,
   "id": "c55a6a3d",
   "metadata": {},
   "outputs": [
    {
     "name": "stdout",
     "output_type": "stream",
     "text": [
      "Model: \"embedding\"\n",
      "_________________________________________________________________\n",
      " Layer (type)                Output Shape              Param #   \n",
      "=================================================================\n",
      " input_image (InputLayer)    [(None, 100, 100, 3)]     0         \n",
      "                                                                 \n",
      " conv2d_8 (Conv2D)           (None, 91, 91, 64)        19264     \n",
      "                                                                 \n",
      " max_pooling2d_6 (MaxPooling  (None, 46, 46, 64)       0         \n",
      " 2D)                                                             \n",
      "                                                                 \n",
      " conv2d_9 (Conv2D)           (None, 40, 40, 128)       401536    \n",
      "                                                                 \n",
      " max_pooling2d_7 (MaxPooling  (None, 20, 20, 128)      0         \n",
      " 2D)                                                             \n",
      "                                                                 \n",
      " conv2d_10 (Conv2D)          (None, 17, 17, 128)       262272    \n",
      "                                                                 \n",
      " max_pooling2d_8 (MaxPooling  (None, 9, 9, 128)        0         \n",
      " 2D)                                                             \n",
      "                                                                 \n",
      " conv2d_11 (Conv2D)          (None, 6, 6, 256)         524544    \n",
      "                                                                 \n",
      " flatten_2 (Flatten)         (None, 9216)              0         \n",
      "                                                                 \n",
      " dense_4 (Dense)             (None, 4096)              37752832  \n",
      "                                                                 \n",
      "=================================================================\n",
      "Total params: 38,960,448\n",
      "Trainable params: 38,960,448\n",
      "Non-trainable params: 0\n",
      "_________________________________________________________________\n"
     ]
    }
   ],
   "source": [
    "embedding.summary()"
   ]
  },
  {
   "cell_type": "code",
   "execution_count": 104,
   "id": "3b9a85d3",
   "metadata": {},
   "outputs": [],
   "source": [
    "class L1Dist(Layer):\n",
    "    \n",
    "    def __init__(self, **kwargs):\n",
    "        super().__init__()\n",
    "       \n",
    "    def call(self, input_embedding, validation_embedding):\n",
    "        return tf.math.abs(input_embedding - validation_embedding)"
   ]
  },
  {
   "cell_type": "code",
   "execution_count": 105,
   "id": "09e1d60b",
   "metadata": {},
   "outputs": [],
   "source": [
    "l1 = L1Dist()"
   ]
  },
  {
   "cell_type": "code",
   "execution_count": 106,
   "id": "bf2245cd",
   "metadata": {},
   "outputs": [],
   "source": [
    "def make_siamese_model(): \n",
    "    \n",
    "    input_image = Input(name='input_img', shape=(100,100,3))\n",
    "    \n",
    "    validation_image = Input(name='validation_img', shape=(100,100,3))\n",
    "    \n",
    "    siamese_layer = L1Dist()\n",
    "    siamese_layer._name = 'distance'\n",
    "    distances = siamese_layer(embedding(input_image), embedding(validation_image))\n",
    "    \n",
    "    classifier = Dense(1, activation='sigmoid')(distances)\n",
    "    \n",
    "    return Model(inputs=[input_image, validation_image], outputs=classifier, name='SiameseNetwork')"
   ]
  },
  {
   "cell_type": "code",
   "execution_count": 107,
   "id": "175be853",
   "metadata": {},
   "outputs": [],
   "source": [
    "siamese_model = make_siamese_model()"
   ]
  },
  {
   "cell_type": "code",
   "execution_count": 108,
   "id": "85761d3f",
   "metadata": {},
   "outputs": [
    {
     "name": "stdout",
     "output_type": "stream",
     "text": [
      "Model: \"SiameseNetwork\"\n",
      "__________________________________________________________________________________________________\n",
      " Layer (type)                   Output Shape         Param #     Connected to                     \n",
      "==================================================================================================\n",
      " input_img (InputLayer)         [(None, 100, 100, 3  0           []                               \n",
      "                                )]                                                                \n",
      "                                                                                                  \n",
      " validation_img (InputLayer)    [(None, 100, 100, 3  0           []                               \n",
      "                                )]                                                                \n",
      "                                                                                                  \n",
      " embedding (Functional)         (None, 4096)         38960448    ['input_img[0][0]',              \n",
      "                                                                  'validation_img[0][0]']         \n",
      "                                                                                                  \n",
      " distance (L1Dist)              (None, 4096)         0           ['embedding[0][0]',              \n",
      "                                                                  'embedding[1][0]']              \n",
      "                                                                                                  \n",
      " dense_5 (Dense)                (None, 1)            4097        ['distance[0][0]']               \n",
      "                                                                                                  \n",
      "==================================================================================================\n",
      "Total params: 38,964,545\n",
      "Trainable params: 38,964,545\n",
      "Non-trainable params: 0\n",
      "__________________________________________________________________________________________________\n"
     ]
    }
   ],
   "source": [
    "siamese_model.summary()"
   ]
  },
  {
   "cell_type": "code",
   "execution_count": 109,
   "id": "15bba4a2",
   "metadata": {},
   "outputs": [],
   "source": [
    "binary_cross_loss = tf.losses.BinaryCrossentropy()"
   ]
  },
  {
   "cell_type": "code",
   "execution_count": 110,
   "id": "2577ee2c",
   "metadata": {},
   "outputs": [],
   "source": [
    "opt = tf.keras.optimizers.Adam(1e-4) # 0.0001"
   ]
  },
  {
   "cell_type": "code",
   "execution_count": 111,
   "id": "86ede9b3",
   "metadata": {},
   "outputs": [],
   "source": [
    "@tf.function\n",
    "def train_step(batch):\n",
    "    with tf.GradientTape() as tape:\n",
    "        x = batch[:2]\n",
    "        \n",
    "        y = batch[2]\n",
    "        \n",
    "        logits = siamese_model(x, training=True)\n",
    "        loss_value = binary_cross_loss(y, logits)\n",
    "        \n",
    "        \n",
    "    grads = tape.gradient(loss_value, siamese_model.trainable_weights)\n",
    "    opt.apply_gradients(zip(grads, siamese_model.trainable_weights))\n",
    "    return loss_value\n",
    " "
   ]
  },
  {
   "cell_type": "code",
   "execution_count": 112,
   "id": "a2ceedc5",
   "metadata": {},
   "outputs": [],
   "source": [
    "@tf.function\n",
    "def test_step(batch):\n",
    "    x = batch[:2]\n",
    "        \n",
    "    y = batch[2]\n",
    "    val_logits = siamese_model(x, training=False)"
   ]
  },
  {
   "cell_type": "code",
   "execution_count": 113,
   "id": "cac75859",
   "metadata": {},
   "outputs": [],
   "source": [
    "# Plotting data\n",
    "def show_plot(iteration,loss):\n",
    "    plt.xlabel('Batches')\n",
    "    plt.ylabel('Loss')\n",
    "    plt.plot(iteration,loss)\n",
    "    plt.show()\n",
    "    \n",
    "def show_plot_p(iteration,precision):\n",
    "    plt.xlabel('Iteration')\n",
    "    plt.ylabel('Precision')\n",
    "    plt.plot(iteration,precision)\n",
    "    plt.show()\n",
    "    \n",
    "def show_plot_r(iteration,recall):\n",
    "    plt.xlabel('Iteration')\n",
    "    plt.ylabel('Recall')\n",
    "    plt.plot(iteration,recall)\n",
    "    plt.show()"
   ]
  },
  {
   "cell_type": "code",
   "execution_count": 114,
   "id": "df3452bf",
   "metadata": {},
   "outputs": [],
   "source": [
    "from tensorflow.keras.metrics import Precision, Recall"
   ]
  },
  {
   "cell_type": "code",
   "execution_count": 115,
   "id": "634a4f11",
   "metadata": {},
   "outputs": [],
   "source": [
    "rec=Recall()\n",
    "pr=Precision()"
   ]
  },
  {
   "cell_type": "code",
   "execution_count": 116,
   "id": "505a606e",
   "metadata": {},
   "outputs": [
    {
     "name": "stdout",
     "output_type": "stream",
     "text": [
      "\n",
      "Start of epoch 0\n",
      "Training loss (for one batch) at step 0: 0.6917\n",
      "Seen so far: 16 samples\n",
      "Training loss (for one batch) at step 200: 0.0188\n",
      "Seen so far: 3216 samples\n",
      "\n",
      "Start of epoch 1\n",
      "Training loss (for one batch) at step 0: 0.0044\n",
      "Seen so far: 16 samples\n",
      "Training loss (for one batch) at step 200: 0.0072\n",
      "Seen so far: 3216 samples\n",
      "\n",
      "Start of epoch 2\n",
      "Training loss (for one batch) at step 0: 0.0453\n",
      "Seen so far: 16 samples\n",
      "Training loss (for one batch) at step 200: 0.0014\n",
      "Seen so far: 3216 samples\n",
      "\n",
      "Start of epoch 3\n",
      "Training loss (for one batch) at step 0: 0.0051\n",
      "Seen so far: 16 samples\n",
      "Training loss (for one batch) at step 200: 0.0066\n",
      "Seen so far: 3216 samples\n",
      "\n",
      "Start of epoch 4\n",
      "Training loss (for one batch) at step 0: 0.0006\n",
      "Seen so far: 16 samples\n",
      "Training loss (for one batch) at step 200: 0.0014\n",
      "Seen so far: 3216 samples\n",
      "\n",
      "Start of epoch 5\n",
      "Training loss (for one batch) at step 0: 0.0040\n",
      "Seen so far: 16 samples\n",
      "Training loss (for one batch) at step 200: 0.0000\n",
      "Seen so far: 3216 samples\n",
      "\n",
      "Start of epoch 6\n",
      "Training loss (for one batch) at step 0: 0.0002\n",
      "Seen so far: 16 samples\n",
      "Training loss (for one batch) at step 200: 0.0000\n",
      "Seen so far: 3216 samples\n",
      "\n",
      "Start of epoch 7\n",
      "Training loss (for one batch) at step 0: 0.1497\n",
      "Seen so far: 16 samples\n",
      "Training loss (for one batch) at step 200: 0.0010\n",
      "Seen so far: 3216 samples\n",
      "\n",
      "Start of epoch 8\n",
      "Training loss (for one batch) at step 0: 0.0049\n",
      "Seen so far: 16 samples\n",
      "Training loss (for one batch) at step 200: 0.0000\n",
      "Seen so far: 3216 samples\n",
      "\n",
      "Start of epoch 9\n",
      "Training loss (for one batch) at step 0: 0.0001\n",
      "Seen so far: 16 samples\n",
      "Training loss (for one batch) at step 200: 0.0000\n",
      "Seen so far: 3216 samples\n",
      "\n",
      "Start of epoch 10\n",
      "Training loss (for one batch) at step 0: 0.0082\n",
      "Seen so far: 16 samples\n",
      "Training loss (for one batch) at step 200: 0.0000\n",
      "Seen so far: 3216 samples\n",
      "\n",
      "Start of epoch 11\n",
      "Training loss (for one batch) at step 0: 0.0003\n",
      "Seen so far: 16 samples\n",
      "Training loss (for one batch) at step 200: 0.0000\n",
      "Seen so far: 3216 samples\n",
      "\n",
      "Start of epoch 12\n",
      "Training loss (for one batch) at step 0: 0.0000\n",
      "Seen so far: 16 samples\n",
      "Training loss (for one batch) at step 200: 0.0000\n",
      "Seen so far: 3216 samples\n",
      "\n",
      "Start of epoch 13\n",
      "Training loss (for one batch) at step 0: 0.0000\n",
      "Seen so far: 16 samples\n",
      "Training loss (for one batch) at step 200: 0.0000\n",
      "Seen so far: 3216 samples\n",
      "\n",
      "Start of epoch 14\n",
      "Training loss (for one batch) at step 0: 0.0000\n",
      "Seen so far: 16 samples\n",
      "Training loss (for one batch) at step 200: 0.0000\n",
      "Seen so far: 3216 samples\n",
      "\n",
      "Start of epoch 15\n",
      "Training loss (for one batch) at step 0: 0.0000\n",
      "Seen so far: 16 samples\n",
      "Training loss (for one batch) at step 200: 0.0000\n",
      "Seen so far: 3216 samples\n",
      "\n",
      "Start of epoch 16\n",
      "Training loss (for one batch) at step 0: 0.0000\n",
      "Seen so far: 16 samples\n",
      "Training loss (for one batch) at step 200: 0.0000\n",
      "Seen so far: 3216 samples\n",
      "\n",
      "Start of epoch 17\n",
      "Training loss (for one batch) at step 0: 0.0031\n",
      "Seen so far: 16 samples\n",
      "Training loss (for one batch) at step 200: 0.0018\n",
      "Seen so far: 3216 samples\n",
      "\n",
      "Start of epoch 18\n",
      "Training loss (for one batch) at step 0: 0.0015\n",
      "Seen so far: 16 samples\n",
      "Training loss (for one batch) at step 200: 0.0017\n",
      "Seen so far: 3216 samples\n",
      "\n",
      "Start of epoch 19\n",
      "Training loss (for one batch) at step 0: 0.0059\n",
      "Seen so far: 16 samples\n",
      "Training loss (for one batch) at step 200: 0.0018\n",
      "Seen so far: 3216 samples\n"
     ]
    },
    {
     "data": {
      "image/png": "[encoded data removed]",
      "text/plain": [
       "<Figure size 432x288 with 1 Axes>"
      ]
     },
     "metadata": {
      "needs_background": "light"
     },
     "output_type": "display_data"
    }
   ],
   "source": [
    "import time\n",
    "\n",
    "counter=[]\n",
    "loss_history=[]\n",
    "iteration_number=0\n",
    "\n",
    "recall=[]\n",
    "precision=[]\n",
    "\n",
    "epochs = 20\n",
    "for epoch in range(epochs):\n",
    "    print(\"\\nStart of epoch %d\" % (epoch,))\n",
    "    start_time = time.time()\n",
    "\n",
    "    # Iterate over the batches of the dataset.\n",
    "    for step, batch in enumerate(train_data):\n",
    "        loss_value = train_step(batch)\n",
    "        \n",
    "        first=batch[0]\n",
    "        second=batch[1]\n",
    "        y=batch[2]\n",
    "        \n",
    "        y_pred = siamese_model.predict([first, second])\n",
    "        \n",
    "        rec.update_state(y, y_pred)\n",
    "        recall_value=rec.result().numpy()\n",
    "        \n",
    "        pr.update_state(y, y_pred)\n",
    "        precision_value=pr.result().numpy()\n",
    "        \n",
    "\n",
    "        # Log every 200 batches.\n",
    "        if step % 200 == 0:\n",
    "            print(\n",
    "                \"Training loss (for one batch) at step %d: %.4f\"\n",
    "                % (step, float(loss_value))\n",
    "            )\n",
    "            print(\"Seen so far: %d samples\" % ((step + 1) * 16))\n",
    "            iteration_number+=200\n",
    "            counter.append(iteration_number)\n",
    "            loss_history.append(loss_value)\n",
    "            recall.append(recall_value)\n",
    "            precision.append(precision_value)\n",
    "            \n",
    "            \n",
    "            \n",
    "    # Run a validation loop at the end of each epoch.\n",
    "    for batch in test_data:\n",
    "        test_step(batch)\n",
    "\n",
    "show_plot(counter, loss_history)"
   ]
  },
  {
   "cell_type": "code",
   "execution_count": 117,
   "id": "b0d19397",
   "metadata": {
    "scrolled": true
   },
   "outputs": [
    {
     "data": {
      "image/png": "[encoded data removed]",
      "text/plain": [
       "<Figure size 432x288 with 1 Axes>"
      ]
     },
     "metadata": {
      "needs_background": "light"
     },
     "output_type": "display_data"
    }
   ],
   "source": [
    "show_plot_p(counter, precision)"
   ]
  },
  {
   "cell_type": "code",
   "execution_count": 118,
   "id": "224f60c9",
   "metadata": {},
   "outputs": [
    {
     "data": {
      "image/png": "[encoded data removed]",
      "text/plain": [
       "<Figure size 432x288 with 1 Axes>"
      ]
     },
     "metadata": {
      "needs_background": "light"
     },
     "output_type": "display_data"
    }
   ],
   "source": [
    "show_plot_r(counter, recall)"
   ]
  },
  {
   "cell_type": "code",
   "execution_count": 119,
   "id": "fe2ce5fd",
   "metadata": {
    "scrolled": true
   },
   "outputs": [
    {
     "name": "stdout",
     "output_type": "stream",
     "text": [
      "WARNING:tensorflow:Compiled the loaded model, but the compiled metrics have yet to be built. `model.compile_metrics` will be empty until you train or evaluate the model.\n"
     ]
    }
   ],
   "source": [
    "siamese_model.save('siamesemodel.h5')"
   ]
  },
  {
   "cell_type": "code",
   "execution_count": 120,
   "id": "b6c97a1c",
   "metadata": {},
   "outputs": [
    {
     "name": "stdout",
     "output_type": "stream",
     "text": [
      "WARNING:tensorflow:No training configuration found in the save file, so the model was *not* compiled. Compile it manually.\n"
     ]
    }
   ],
   "source": [
    "# Reload model \n",
    "model = tf.keras.models.load_model('siamesemodel.h5', \n",
    "                                   custom_objects={'L1Dist':L1Dist, 'BinaryCrossentropy':tf.losses.BinaryCrossentropy})"
   ]
  },
  {
   "cell_type": "code",
   "execution_count": 122,
   "id": "87547b20",
   "metadata": {},
   "outputs": [
    {
     "name": "stdout",
     "output_type": "stream",
     "text": [
      "Model: \"SiameseNetwork\"\n",
      "__________________________________________________________________________________________________\n",
      " Layer (type)                   Output Shape         Param #     Connected to                     \n",
      "==================================================================================================\n",
      " input_img (InputLayer)         [(None, 100, 100, 3  0           []                               \n",
      "                                )]                                                                \n",
      "                                                                                                  \n",
      " validation_img (InputLayer)    [(None, 100, 100, 3  0           []                               \n",
      "                                )]                                                                \n",
      "                                                                                                  \n",
      " embedding (Functional)         (None, 4096)         38960448    ['input_img[0][0]',              \n",
      "                                                                  'validation_img[0][0]']         \n",
      "                                                                                                  \n",
      " l1_dist_6 (L1Dist)             (None, 4096)         0           ['embedding[0][0]',              \n",
      "                                                                  'embedding[1][0]']              \n",
      "                                                                                                  \n",
      " dense_5 (Dense)                (None, 1)            4097        ['l1_dist_6[0][0]']              \n",
      "                                                                                                  \n",
      "==================================================================================================\n",
      "Total params: 38,964,545\n",
      "Trainable params: 38,964,545\n",
      "Non-trainable params: 0\n",
      "__________________________________________________________________________________________________\n"
     ]
    }
   ],
   "source": [
    "# View model summary\n",
    "model.summary()"
   ]
  }
 ],
 "metadata": {
  "kernelspec": {
   "display_name": "Python 3 (ipykernel)",
   "language": "python",
   "name": "python3"
  },
  "language_info": {
   "codemirror_mode": {
    "name": "ipython",
    "version": 3
   },
   "file_extension": ".py",
   "mimetype": "text/x-python",
   "name": "python",
   "nbconvert_exporter": "python",
   "pygments_lexer": "ipython3",
   "version": "3.9.7"
  }
 },
 "nbformat": 4,
 "nbformat_minor": 5
}
